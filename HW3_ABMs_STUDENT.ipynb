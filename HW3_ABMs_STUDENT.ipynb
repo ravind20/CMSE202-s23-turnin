{
 "cells": [
  {
   "cell_type": "markdown",
   "metadata": {},
   "source": [
    "# Homework Assignment 3 (Individual)\n",
    "\n",
    "---"
   ]
  },
  {
   "cell_type": "markdown",
   "metadata": {},
   "source": [
    "### <p style=\"text-align: right;\"> &#9989; Kenisha Ravindran</p>"
   ]
  },
  {
   "cell_type": "markdown",
   "metadata": {},
   "source": [
    "\n",
    "---\n",
    "## Creating a natural selection model using ABMs and OOP\n",
    "\n",
    "In this homework, we have two sections.\n",
    "\n",
    "- **Part A: Git practice**\n",
    "- **Part B: ABM + OOP: Simulating animal populations -- Natural selection and adaptation**\n",
    "\n",
    "<img src=\"https://raw.githubusercontent.com/huichiayu/cmse_202_802/main/IMGs/rock_mice.jpg\" border=\"0\" align=\"center\" width=\"600\">\n",
    "image found online.\n",
    "\n",
    "\n",
    "### Goal for this homework assignment\n",
    "By now, you have learned ABM and OOP through the assignments of assembling Zoo and Superbugs. Let's use those skills to build a simple fun model of natural selection. \n",
    "\n",
    "**This assignment is due roughly two weeks from now at 11:59 pm on Friday, March 31.** It should be uploaded into the \"Homework Assignments\" submission folder for Homework #3, as well as GitHub turn-in repo.  Submission instructions can be found at the end of the notebook. **The distribution of points can be found in the section headers**.\n"
   ]
  },
  {
   "cell_type": "markdown",
   "metadata": {},
   "source": [
    "---\n",
    "## Part 0: Upload this file to your Git repository to track your progress on your assignment (15 pt)\n",
    "\n",
    "#### Note: This is different from previous assignments!\n",
    "\n",
    "You will add this homework assignment to your GutHub repository you created for previous homework so that you can track your progress on the assignment and preserve the final version that you turn in. We also want you to get practice with **branching**, as that will be important and useful for your group projects. \n",
    "\n",
    "**&#9989; Do the following**:\n",
    "\n",
    "\n",
    "1. Navigate to your `cmse202-s23-turnin` repository \n",
    "2. Create a new branch called `hw03_branch` and move into it. \n",
    "3. Create a new directory called `hw-03`.\n",
    "4. Move this notebook into that **new directory**, then **add** and **commit** it. \n",
    "5. Finally, to test that everything is working, `git push` the file and new branch so they end up in your GitHub repository. \n",
    "\n",
    "**Important**: Make sure to add your Professor and TA as collaborators of this respository with \"Read\" access so that we can see your assignment (you should have done this in the previous homework assignment)\n",
    "\n",
    "**Also**: Make sure that the version of this notebook that you are working on is the same one that you just added to your repository! If you are working on a different copy of the noteobok, **none of your changes will be tracked**!\n",
    "\n",
    "If everything went as intended, the file should now show up on your GitHub account in the `cmse202-s23-turnin` repository inside the `hw-03` directory and `hw-03` branch that you just created.  Periodically, **you'll be asked to commit your changes and push them to the remote GitHub location**. Of course, you can always commit your changes more often than that, if you wish.  It will be good to develop a habit of committing your changes any time you make a significant modification, or when you stop working on the project for a bit.\n",
    "\n"
   ]
  },
  {
   "cell_type": "markdown",
   "metadata": {},
   "source": [
    "---\n",
    "\n",
    "# A natural selection model\n",
    "For this homework assignment, you will be building an Agent-Based Model (ABM) that simulates natural selection in action. You will build two classes for mice, which inhabit the world, and one class for a (predator) hawk. The mice have different fur color, which allows them to blend in better (or worse) with their environment. This model is (loosely) based on an actual case of natural selection involving the [Peppered Moth](https://en.wikipedia.org/wiki/Peppered_moth_evolution).\n",
    "\n",
    "For this assignment, you will be working with an environment class, which will allow you to actually run your simulation. We've also provided you with a generic `Animal_Agent`, which you will use to build your own classes for the natural selection model. You will need to download the generic `Animal_Agent` class and `Environment` class. You can find them here:\n",
    "\n",
    "- `https://raw.githubusercontent.com/msu-cmse-courses/cmse202-S23-data/main/HW/HW3/Animal_Agent_Class.py`\n",
    "- `https://raw.githubusercontent.com/msu-cmse-courses/cmse202-S23-data/main/HW/HW3/Environment.py`"
   ]
  },
  {
   "cell_type": "markdown",
   "metadata": {},
   "source": [
    "## 1. Building Up an Environment with Animal Agents\n",
    "\n",
    "\n",
    "\n",
    "### 1.1 (5 Points)\n",
    "\n",
    "Spend some time exploring the new classes a bit. **Write a few sentences giving a high-level description of how this model works. What are the different classes? What do they do? How can they be used to create an Agent-Based Model?**\n"
   ]
  },
  {
   "cell_type": "markdown",
   "metadata": {},
   "source": [
    "This model intializes the habitat size of the animal, gender, age limit, shape, color, etc. Theres an animal class and an enviroment class. Clases can be used to create agent objects which can interact with eachother."
   ]
  },
  {
   "cell_type": "markdown",
   "metadata": {},
   "source": [
    "### 1.2 (15 Points)\n",
    "\n",
    "Construct a new `Environment` object and a new `Animal_Agent` object. Specify that the `Animal_Agent` object is a female. Add the `Animal_Agent` object to the `Environment` object. Run the `simulation` method. You should see there's a bug in the code. **Fix the bug and explain what the cause was.**"
   ]
  },
  {
   "cell_type": "code",
   "execution_count": 87,
   "metadata": {},
   "outputs": [],
   "source": [
    "import random \n",
    "import numpy as np\n",
    "import math\n",
    "import matplotlib.pyplot as plt\n",
    "import time  \n",
    "from IPython.display import display, clear_output\n",
    "from matplotlib.offsetbox import OffsetImage, AnnotationBbox\n",
    "from matplotlib.cbook import get_sample_data\n",
    "\n",
    "class Environment():\n",
    "\n",
    "    '''\n",
    "    An Environment class. \n",
    "    '''\n",
    "    \n",
    "    def __init__(self, xsize=100, ysize=100):\n",
    "        self.xsize = xsize\n",
    "        self.ysize = ysize\n",
    "        self.environ = np.zeros((self.xsize,self.ysize,3))\n",
    "        self.environ[:,:,0] = 0.38\n",
    "        self.environ[:,:,1] = 0.19\n",
    "        self.environ[:,:,2] = 0.04\n",
    "        self.animal_agents = []\n",
    "\n",
    "    \n",
    "    def add_agent(self,agent):\n",
    "        self.animal_agents.append(agent)\n",
    "    \n",
    "    def simulate(self,tot_time):\n",
    "        for dt in range(tot_time):\n",
    "            clear_output(wait=True)\n",
    "            plt.figure(figsize=(6, 6))    \n",
    "            plt.imshow(self.environ) \n",
    "            ax = plt.gca()   \n",
    "            \n",
    "            # loop over each animal\n",
    "            temp_agents = []\n",
    "            temp_hunted_agents = []\n",
    "            for agent in self.animal_agents:\n",
    "                agent.roaming()\n",
    "                agent.draw(ax)\n",
    "                \n",
    "                if agent.ptype == \"Prey\":\n",
    "                    agent.aging()\n",
    "                    \n",
    "                    if agent.check_if_dead():\n",
    "                        del agent\n",
    "                    else:\n",
    "                        temp_agents.append(agent)\n",
    "                        temp_new_agents = agent.procreate(dt, self.animal_agents)\n",
    "                        if len(temp_new_agents) > 0:\n",
    "                            temp_agents.extend(temp_new_agents)\n",
    "                elif agent.ptype == \"Predator\":\n",
    "                    caught_prey = agent.hunt(self.animal_agents)\n",
    "                    if caught_prey:\n",
    "                        temp_hunted_agents.append(caught_prey)\n",
    "                    #temp_agents.append(agent)\n",
    "            \n",
    "            for agent in temp_hunted_agents:\n",
    "                temp_agents.remove(agent)        \n",
    "            self.animal_agents.clear\n",
    "            self.animal_agents = temp_agents\n",
    "            plt.xlim(0,self.xsize)\n",
    "            plt.ylim(0,self.ysize)\n",
    "            plt.show()   \n",
    "            time.sleep(0.001)      \n",
    "\n",
    "    def simulate_plot_populations(self,tot_time, dt):\n",
    "        self.light_brown_animals = []\n",
    "        self.dark_brown_animals = []\n",
    "        self.times = []\n",
    "        time_0 = 0\n",
    "        for dt in range(tot_time):\n",
    "            time_0 += dt\n",
    "            # loop over each animal agent\n",
    "            temp_agents = []\n",
    "            temp_hunted_agents = []\n",
    "            for agent in self.animal_agents:\n",
    "                agent.roaming()\n",
    "                \n",
    "                if agent.ptype == \"Prey\":\n",
    "                    agent.aging()\n",
    "                    \n",
    "                    if agent.check_if_dead():\n",
    "                        del agent\n",
    "                    else:\n",
    "                        temp_agents.append(agent)\n",
    "                        temp_new_agents = agent.procreate(dt, time_0)\n",
    "                        if len(temp_new_agents) > 0:\n",
    "                            temp_agents.extend(temp_new_agents)\n",
    "                elif agent.ptype == \"Predator\":\n",
    "                    caught_prey = agent.hunt(self.animal_agents)\n",
    "                    if caught_prey:\n",
    "                        temp_hunted_agents.append(caught_prey)\n",
    "                    temp_agents.append(agent)\n",
    "            \n",
    "            for agent in temp_hunted_agents:\n",
    "                temp_agents.remove(agent)\n",
    "            self.animal_agents.clear\n",
    "            self.animal_agents = temp_agents\n",
    "\n",
    "            self.times.append(time_0)\n",
    "            self.light_brown_animals.append(0)\n",
    "            self.dark_brown_animals.append(0)\n",
    "            for agent in self.animal_agents:\n",
    "                if agent.color == 'goldenrod':\n",
    "                    self.light_brown_animals[-1] += 1\n",
    "                elif agent.color == \"saddlebrown\":\n",
    "                    self.dark_brown_animals[-1] += 1\n",
    "\n",
    "        plt.plot(self.times,self.light_brown_animals,label=\"Light Brown\")   \n",
    "        plt.plot(self.times,self.dark_brown_animals,label=\"Dark Brown\")\n",
    "        plt.legend(loc=\"best\")\n",
    "        plt.show()  "
   ]
  },
  {
   "cell_type": "code",
   "execution_count": 88,
   "metadata": {},
   "outputs": [],
   "source": [
    "import random \n",
    "import numpy as np\n",
    "import math\n",
    "import matplotlib.pyplot as plt\n",
    "import itertools\n",
    "\n",
    "\n",
    "class Animal_Agent():\n",
    "\n",
    "    '''\n",
    "    An Animal_Agent class. \n",
    "    '''\n",
    "    \n",
    "    def __init__(self,xmax=100,ymax=100,ptype=\"Prey\",sex=\"M\",age_limit=50,catch_radius=10,mate_range=5,gestation=8,shape=\"o\",color=\"saddlebrown\",saturation_pop=150):\n",
    "        '''\n",
    "        Initaliazes an animal agent object, an autonomous agent that can interact with other agents. Specifically, predators can hunt prey,\n",
    "        prey can procreate, and both predator and prey can move around and age. \n",
    "\n",
    "        xmax (int): The (x) size of the habitat\n",
    "        ymax (int): The (y) size of the habitat\n",
    "        pytpe (string): Sets whether this is a predator or prey type of animal\n",
    "        sex (string): Sets the sex of the animal\n",
    "        age_limit (int): Sets the age at which the animal dies of old age\n",
    "        catch_radius (int): Specifies how far away a predator can find/catch prey\n",
    "        mate_range (int): Specifies how far away a prey can find a mate\n",
    "        gestation (int): How long does an animal need to wait between mating cycles\n",
    "        shape (string): Specifies the marker to use when visualizing the animal\n",
    "        color (string): Specifies the color to use when visualizing the animal\n",
    "        saturation_pop (int): The saturation population, where the environment can no longer support the prey\n",
    "        is_caught (bool): Flag for determining whether prey has been caught by a predator\n",
    "        '''\n",
    "        self.x = random.randint(0, xmax)\n",
    "        self.y = random.randint(0, ymax)\n",
    "        self.age = 0 \n",
    "        self.ptype = ptype\n",
    "        self.age_limit = age_limit\n",
    "        self.catch_radius = catch_radius\n",
    "        self.xmax = xmax\n",
    "        self.ymax = ymax\n",
    "        self.sex = sex\n",
    "        self.gestation = gestation\n",
    "        self.last_litter_time = 1\n",
    "        self.mate_range = mate_range \n",
    "        self.color = color\n",
    "        self.shape = shape\n",
    "        self.saturation_pop = saturation_pop\n",
    "        self.is_caught = False\n",
    "\n",
    "    def roaming(self,vx=7,vy=7): \n",
    "        '''\n",
    "        Method to proceed random walk. Checks to make sure that the position it is trying to move into is within the bounds of \n",
    "        the environment. \n",
    "        '''\n",
    "        dx = np.random.randint(-vx,vx)\n",
    "        dy = np.random.randint(-vy,vy)\n",
    "\n",
    "        if (self.x + dx > self.xmax) or (self.x + dx < 0):\n",
    "            self.x -= dx\n",
    "        else:\n",
    "            self.x += dx\n",
    "\n",
    "        if (self.y + dy > self.ymax) or (self.y + dy < 0):\n",
    "            self.y -= dy\n",
    "        else:\n",
    "            self.y += dy\n",
    "        # print(self.x,self.y)\n",
    "\n",
    "    def set_allele(self, alle_d, alle_m):\n",
    "        '''\n",
    "        Method to set the alleles of this mouse: alle_d and alle_m from dad and mom, respectively.\n",
    "        The values is either 0 or 1 for each allele. \n",
    "        0 and 1 are recessive and dominant gene expressions, respectively.\n",
    "        This setup will result in three types of fur_color expressions: \n",
    "        type0 ==> (0,0): 0 = 0 + 0; recessive, dark color\n",
    "        type1 ==> (0,1) or (1,0): 1 = 0 + 1 = 1 + 0; dominant, light color\n",
    "        type2 ==> (1,1): 2 = 1 + 1; dominant, light color\n",
    "        '''\n",
    "        \n",
    "        self.alle_d = len(alle_d)\n",
    "        self.alle_m = len(alle_m)\n",
    "        \n",
    "        # Here we set light animal color to be dominant.\n",
    "        if self.alle_d + self.alle_m >= 1:\n",
    "            self.color = 'goldenrod'\n",
    "            self.catch_probability = 0.95\n",
    "            \n",
    "        else:\n",
    "            self.color = \"saddlebrown\" \n",
    "        \n",
    "    def move(self, vx=7, vy=7):\n",
    "        '''\n",
    "        Method to move the animal to a new location.\n",
    "        vx (int): The maximum distance the animal can move in the x-direction.\n",
    "        vy (int): The maximum distance the animal can move in the y-direction.\n",
    "        '''\n",
    "        dx = np.random.randint(-vx, vx)\n",
    "        dy = np.random.randint(-vy, vy)\n",
    "        # Move the animal to the new location\n",
    "        self.x = min(max(self.x + dx, 0), self.xmax)\n",
    "        self.y = min(max(self.y + dy, 0), self.ymax)\n",
    "\n",
    "\n",
    "\n",
    "    def draw(self,ax):\n",
    "        '''\n",
    "        Method to draw the animal agent using an axis object ax.\n",
    "        '''\n",
    "        ax.scatter(self.x, self.y, s=24.0, c=self.color, marker=self.shape)   \n",
    "    \n",
    "    def aging(self):\n",
    "        '''\n",
    "        Method to increase the age of the animal agent by one.\n",
    "        '''\n",
    "        self.age += 1\n",
    "\n",
    "    def check_if_dead(self):\n",
    "        '''\n",
    "        Method to check whether the animal agent has died of old age.\n",
    "        '''\n",
    "        if int(self.age) > int(self.age_limit):\n",
    "            return True\n",
    "        else:\n",
    "            return False\n",
    "\n",
    "\n",
    "    def get_distance(self,agent):\n",
    "        '''\n",
    "        Get the distance between agents.\n",
    "\n",
    "        agent (Animal_Agent): An animal agent object that we're finding the distance to.\n",
    "        '''\n",
    "        return math.sqrt((self.x-agent.x)**2 + (self.y-agent.y)**2)\n",
    "    \n",
    "    def hunt(self,all_agents):\n",
    "        '''\n",
    "        Method for a predator to find prey. If the predator finds prey, the method sets the is_caught flag \n",
    "        and returns the prey object so it can be removed from the environment. \n",
    "\n",
    "\n",
    "        all_agents (list): A list of all of the animal agent objects \n",
    "        '''\n",
    "        for agent in all_agents:\n",
    "            if (agent.ptype == \"Prey\") and (agent.age < agent.age_limit) and not (agent.is_caught):\n",
    "                if self.get_distance(agent) < self.catch_radius:\n",
    "                    agent.is_caught = True\n",
    "                    return agent       \n",
    "        return False\n",
    "    \n",
    "    def procreate(self,all_agents,time):\n",
    "        '''\n",
    "        Method to create new agents (procreate). There are three barriers to procreation:\n",
    "        1. Has it been enough time between the last procreation? (I.e., more than the gestation time.)\n",
    "        2. Is there a (male) agent within range?\n",
    "        3. Is the population below the saturation point? This is modeled as a logistic function.\n",
    "        If all of these conditions are met, then a new litter is created. Every member of the new litter is \n",
    "        randomly assigned genes from their parents. The last litter time is set to the current time and the\n",
    "        list of children is returned. \n",
    "\n",
    "        all_agents (list): A list of all of the animal agent objects \n",
    "        time (int): The current time, used to determine if the Animal Agent has passed the gestation period.\n",
    "        '''\n",
    "        \n",
    "        child_list = []\n",
    "        val = random.random()\n",
    "        if (self.sex == 'F') and (np.mod(abs(time-self.last_litter_time),self.gestation) == 0):\n",
    "            for agent in all_agents:\n",
    "                if (agent.ptype==\"Prey\") and (agent.sex == \"M\") and (self.get_distance(agent) <= self.mate_range) and (val > (1.0/(1.0+np.exp(-len(all_agents)/self.saturation_pop)))):\n",
    "                    child_num = int(np.random.normal(7,1))\n",
    "                    for jj in range(child_num):\n",
    "                        mom_a = self.alle_d\n",
    "                        if np.random.randint(0,2) == 1:\n",
    "                            mom_a = self.alle_m\n",
    "                        dad_a = agent.alle_d\n",
    "                        if np.random.randint(0,2) == 1:\n",
    "                            dad_a = agent.alle_m               \n",
    "                        child = Animal_Agent(sex=\"F\")\n",
    "                        if np.random.randint(0,2) == 1:\n",
    "                            child = Animal_Agent(sex=\"M\")\n",
    "                        child.set_allele(dad_a,mom_a)\n",
    "                        child_list.append(child)\n",
    "                    self.last_litter_time = time\n",
    "                    break\n",
    "\n",
    "        return child_list"
   ]
  },
  {
   "cell_type": "code",
   "execution_count": 113,
   "metadata": {},
   "outputs": [
    {
     "data": {
      "image/png": "[encoded data removed]",
      "text/plain": [
       "<Figure size 432x432 with 1 Axes>"
      ]
     },
     "metadata": {
      "needs_background": "light"
     },
     "output_type": "display_data"
    }
   ],
   "source": [
    "#Write your code here\n",
    "#import Environment from Environment\n",
    "\n",
    "env_1 = Environment()\n",
    "ani_1 = Animal_Agent(env_1.xsize, env_1.ysize, \"Prey\", \"female\")\n",
    "env_1.add_agent(ani_1)\n",
    "env_1.simulate(300)"
   ]
  },
  {
   "cell_type": "markdown",
   "metadata": {},
   "source": [
    "*Explain the bug here.*\n",
    "The looping of the time list and the time inetger isnt working properly, so I had to intialize a time to equal to 0"
   ]
  },
  {
   "cell_type": "markdown",
   "metadata": {},
   "source": [
    "### 1.3 (5 Points)\n",
    "\n",
    "**In the cell below, copy your `simulation` code from above and rerun it with the bug fixed to show how the animal runs around.** You should use the `set_allele()` method in the `Animal_Agent` class to randomly assign two alleles to your `Animal_Agent` object.\n"
   ]
  },
  {
   "cell_type": "code",
   "execution_count": null,
   "metadata": {},
   "outputs": [],
   "source": [
    "\n"
   ]
  },
  {
   "cell_type": "code",
   "execution_count": 116,
   "metadata": {},
   "outputs": [
    {
     "data": {
      "image/png": "[encoded data removed]",
      "text/plain": [
       "<Figure size 432x432 with 1 Axes>"
      ]
     },
     "metadata": {
      "needs_background": "light"
     },
     "output_type": "display_data"
    }
   ],
   "source": [
    "#Write your code here\n",
    "env_1 = Environment(xsize=100, ysize=100)\n",
    "\n",
    "ani_1 = Animal_Agent(xmax=200, ymax=200, ptype=\"Prey\", sex=\"female\")\n",
    "alle_d = random.choice([\"A\", \"B\", \"C\", \"D\"])\n",
    "alle_m = random.choice([\"A\", \"B\", \"C\", \"D\"])\n",
    "ani_1.set_allele(alle_d, alle_m)\n",
    "\n",
    "\n",
    "env_1.add_agent(ani_1)\n",
    "\n",
    "env_1.simulate(200)"
   ]
  },
  {
   "cell_type": "markdown",
   "metadata": {},
   "source": [
    "### 1.4 (5 Points)\n",
    "\n",
    "**Now add in a predator and let it evolve. Do you see the predator hunting the prey object?** Make sure to set the `ptype` to predator, and the `shape` and `color` to be something different from the prey you defined above (E.g., a shape of \"P\" and a color of \"red\".)"
   ]
  },
  {
   "cell_type": "code",
   "execution_count": 117,
   "metadata": {},
   "outputs": [
    {
     "data": {
      "image/png": "[encoded data removed]",
      "text/plain": [
       "<Figure size 432x432 with 1 Axes>"
      ]
     },
     "metadata": {
      "needs_background": "light"
     },
     "output_type": "display_data"
    }
   ],
   "source": [
    "#Write your code here\n",
    "\n",
    "ani_1 = Animal_Agent(xmax=200, ymax=200, ptype=\"Prey\", sex=\"female\")\n",
    "ani_1.set_allele(alle_d, alle_m)\n",
    "env_1.add_agent(ani_1)\n",
    "\n",
    "predator =  Animal_Agent(xmax=200, ymax=200, ptype='Predator', sex='male', shape='P', color='red')\n",
    "predator.set_allele(alle_d,alle_m)\n",
    "env_1.add_agent(predator)\n",
    "\n",
    "env_1.simulate(100)"
   ]
  },
  {
   "cell_type": "markdown",
   "metadata": {},
   "source": [
    "### 1.5 (15 Points)\n",
    "\n",
    "**Now add *multiple* predator and prey agents ($N > 1$ for both). Find a combination of $N_{\\mathrm{Prey}}$ and $N_{\\mathrm{Predator}}$ where the Prey can maintain a sustainable population (I.e., they aren't wiped out in the long run).**\n",
    "\n",
    "- **NOTE 1:** Make sure you add both male and female Prey, so they can `Procreate`. \n",
    "- **NOTE 2:** We recommend using the `simulate_plot_populations()` method, so you can monitor the growth/decline of populations."
   ]
  },
  {
   "cell_type": "code",
   "execution_count": 122,
   "metadata": {},
   "outputs": [
    {
     "data": {
      "image/png": "[encoded data removed]",
      "text/plain": [
       "<Figure size 432x432 with 1 Axes>"
      ]
     },
     "metadata": {
      "needs_background": "light"
     },
     "output_type": "display_data"
    },
    {
     "name": "stdout",
     "output_type": "stream",
     "text": [
      "Step 0: 20 prey, 0 predators\n"
     ]
    },
    {
     "data": {
      "image/png": "[encoded data removed]",
      "text/plain": [
       "<Figure size 432x288 with 1 Axes>"
      ]
     },
     "metadata": {
      "needs_background": "light"
     },
     "output_type": "display_data"
    }
   ],
   "source": [
    "#Write your code here\n",
    "\n",
    "\n",
    "import random\n",
    "\n",
    "env_2 = Environment(450, 450)\n",
    "\n",
    "\n",
    "prey_pop = []\n",
    "for i in range(20):\n",
    "    prey = Animal_Agent(xmax=450, ymax=450, ptype=\"Prey\", sex=random.choice([\"male\", \"female\"]))\n",
    "    prey.set_allele(alle_d, alle_m)\n",
    "    prey.catch_radius = 10\n",
    "    prey.reproduction_rate = 0.5\n",
    "    prey_pop.append(prey)\n",
    "    env_2.add_agent(prey)\n",
    "\n",
    "\n",
    "predator_pop = []\n",
    "for i in range(3):\n",
    "    predator = Animal_Agent(xmax=450, ymax=450, ptype=\"Predator\", sex=random.choice([\"male\", \"female\"]), shape=\"P\", color=\"red\")\n",
    "    predator.set_allele(alle_d, alle_m)\n",
    "    predator.catch_radius = 15\n",
    "    predator.reproduction_rate = 0.4\n",
    "    predator.catch_probability = 0.3\n",
    "    predator_pop.append(predator)\n",
    "    env_2.add_agent(predator)\n",
    "\n",
    "\n",
    "for i in range(100):\n",
    "    if len(prey_pop) < 1 or len(predator_pop) < 1:\n",
    "        break\n",
    "    \n",
    "    env_2.simulate(1)\n",
    "    prey_pop = [prey for prey in prey_pop if not prey.check_if_dead()]\n",
    "    predator_pop = [predator for predator in predator_pop if predator.check_if_dead()]\n",
    "    \n",
    "    print(f\"Step {i}: {len(prey_pop)} prey, {len(predator_pop)} predators\")\n",
    "    \n",
    "    \n",
    "    if i % 5 == 0:\n",
    "        env_2.simulate_plot_populations(100, 0.1)\n",
    "\n",
    "\n",
    "\n"
   ]
  },
  {
   "cell_type": "markdown",
   "metadata": {},
   "source": [
    "### 1.6 (5 Points)\n",
    "\n",
    "**How does the population evolve over time? (I.e., is it linear? Periodic? etc.) What causes this shape? How does the population of light brown and dark brown prey differ (if at all)?**"
   ]
  },
  {
   "cell_type": "markdown",
   "metadata": {},
   "source": [
    "The population of prey oscillates over time, meaning it goes through regular cycles of growth and decline (it is straight lines though). This is because the number of prey influences the number of predators, and the number of predators influences the number of prey. The population of light brown and dark brown prey fluctuates similarly"
   ]
  },
  {
   "cell_type": "markdown",
   "metadata": {},
   "source": [
    "## 2. Refining the Model\n",
    "\n",
    "For this part, we're going to use our generic `Animal_Agent`class to construct child classes that represent *specific* animal species for both our predator and prey animals. Specifically, we'll be making a `Mouse` child class for the prey and a `Hawk` child class for the predator. **We'll use these new child classes to run our natural selection model.**\n",
    "\n",
    "### 2.1 (15 Points)\n",
    "\n",
    "Create a new `Mouse` child class, using the `Animal_Agent` as the parent class. The `Mouse` class will largely be the same as the `Animal_Agent` class except for two details: \n",
    "\n",
    "1. **In the `set_allele` method, add a new class attribute called `catch_probability`. For the light-brown mice, set `catch_probability` to 0.95. For dark brown mice, set the `catch_probability` to 0.05.**\n",
    "2. **Change the `Procreate` method so that they create new `Mouse` animal objects.**\n",
    "\n"
   ]
  },
  {
   "cell_type": "code",
   "execution_count": 119,
   "metadata": {},
   "outputs": [],
   "source": [
    "#Write your code here\n",
    "class Mouse(Animal_Agent):\n",
    "    def __init__(self, xmax, ymax, ptype, sex, shape=\"C\", color=\"lightbrown\"):\n",
    "        super().__init__(xmax, ymax, ptype, sex, shape, color)\n",
    "        self.catch_probability = 0.95 if color == \"lightbrown\" else 0.05\n",
    "        #self.age_limit = int(self.age_limit)\n",
    "\n",
    "    def Procreate(self, partner):\n",
    "\n",
    "        child = Mouse(self.xmax, self.ymax, self.ptype, random.choice([\"male\", \"female\"]), self.shape, self.color)\n",
    "\n",
    "        child.set_allele(self.alleles[random.choice([0, 1])], partner.alleles[random.choice([0, 1])])\n",
    "        if random.random() < self.reproduction_rate * partner.reproduction_rate:\n",
    "            return child\n",
    "        else:\n",
    "            return None\n",
    "\n"
   ]
  },
  {
   "cell_type": "markdown",
   "metadata": {},
   "source": [
    "### 2.2 (10 Points)\n",
    "\n",
    "Create a new `Hawk` child class, using the `Animal_Agent` as the parent class. The `Hawk` class will largely be the same as the `Animal_Agent` class except for one detail: **In the `hunt` method, incorporate the `catch_probability` of the predator, such that it is harder for a `Hawk` to catch a `Mouse` with a lower `catch_probability`.**"
   ]
  },
  {
   "cell_type": "code",
   "execution_count": 120,
   "metadata": {},
   "outputs": [],
   "source": [
    "#Write your code here\n",
    "class Hawk(Animal_Agent):\n",
    "    def __init__(self, xmax, ymax, ptype, sex, shape, color):\n",
    "        super().__init__(xmax, ymax, ptype, sex, shape, color)\n",
    "\n",
    "    def hunt(self, prey_population):\n",
    "        catch_radius = self.catch_radius\n",
    "        for prey in prey_population:\n",
    "            if prey.check_if_dead():\n",
    "                continue\n",
    "            distance = self.calc_distance(prey.x, prey.y)\n",
    "            if distance <= catch_radius:\n",
    "                catch_probability = prey.catch_probability\n",
    "                if random.random() < catch_probability:\n",
    "                    prey.set_death_flag()\n",
    "                    self.food += 1\n",
    "                    return\n",
    "        self.food -= 1\n"
   ]
  },
  {
   "cell_type": "markdown",
   "metadata": {},
   "source": [
    "### 2.3 (5 Points)\n",
    "\n",
    "**Repeat problem 1.5, replacing the generic prey with the `Mice` animals, and the generic predators with the `Hawk` animals.**"
   ]
  },
  {
   "cell_type": "code",
   "execution_count": 121,
   "metadata": {},
   "outputs": [
    {
     "ename": "ValueError",
     "evalue": "invalid literal for int() with base 10: 'C'",
     "output_type": "error",
     "traceback": [
      "\u001b[0;31m---------------------------------------------------------------------------\u001b[0m",
      "\u001b[0;31mValueError\u001b[0m                                Traceback (most recent call last)",
      "\u001b[0;32m<ipython-input-121-ec19ef96e18b>\u001b[0m in \u001b[0;36m<module>\u001b[0;34m\u001b[0m\n\u001b[1;32m     34\u001b[0m         \u001b[0;32mbreak\u001b[0m\u001b[0;34m\u001b[0m\u001b[0;34m\u001b[0m\u001b[0m\n\u001b[1;32m     35\u001b[0m \u001b[0;34m\u001b[0m\u001b[0m\n\u001b[0;32m---> 36\u001b[0;31m     \u001b[0menv_2\u001b[0m\u001b[0;34m.\u001b[0m\u001b[0msimulate\u001b[0m\u001b[0;34m(\u001b[0m\u001b[0;36m1\u001b[0m\u001b[0;34m)\u001b[0m\u001b[0;34m\u001b[0m\u001b[0;34m\u001b[0m\u001b[0m\n\u001b[0m\u001b[1;32m     37\u001b[0m     \u001b[0mprey_pop\u001b[0m \u001b[0;34m=\u001b[0m \u001b[0;34m[\u001b[0m\u001b[0mprey\u001b[0m \u001b[0;32mfor\u001b[0m \u001b[0mprey\u001b[0m \u001b[0;32min\u001b[0m \u001b[0mprey_pop\u001b[0m \u001b[0;32mif\u001b[0m \u001b[0;32mnot\u001b[0m \u001b[0mprey\u001b[0m\u001b[0;34m.\u001b[0m\u001b[0mcheck_if_dead\u001b[0m\u001b[0;34m(\u001b[0m\u001b[0;34m)\u001b[0m\u001b[0;34m]\u001b[0m\u001b[0;34m\u001b[0m\u001b[0;34m\u001b[0m\u001b[0m\n\u001b[1;32m     38\u001b[0m     \u001b[0mpredator_pop\u001b[0m \u001b[0;34m=\u001b[0m \u001b[0;34m[\u001b[0m\u001b[0mpredator\u001b[0m \u001b[0;32mfor\u001b[0m \u001b[0mpredator\u001b[0m \u001b[0;32min\u001b[0m \u001b[0mpredator_pop\u001b[0m \u001b[0;32mif\u001b[0m \u001b[0mpredator\u001b[0m\u001b[0;34m.\u001b[0m\u001b[0mcheck_if_dead\u001b[0m\u001b[0;34m(\u001b[0m\u001b[0;34m)\u001b[0m\u001b[0;34m]\u001b[0m\u001b[0;34m\u001b[0m\u001b[0;34m\u001b[0m\u001b[0m\n",
      "\u001b[0;32m<ipython-input-87-5dddeec4acc3>\u001b[0m in \u001b[0;36msimulate\u001b[0;34m(self, tot_time)\u001b[0m\n\u001b[1;32m     44\u001b[0m                     \u001b[0magent\u001b[0m\u001b[0;34m.\u001b[0m\u001b[0maging\u001b[0m\u001b[0;34m(\u001b[0m\u001b[0;34m)\u001b[0m\u001b[0;34m\u001b[0m\u001b[0;34m\u001b[0m\u001b[0m\n\u001b[1;32m     45\u001b[0m \u001b[0;34m\u001b[0m\u001b[0m\n\u001b[0;32m---> 46\u001b[0;31m                     \u001b[0;32mif\u001b[0m \u001b[0magent\u001b[0m\u001b[0;34m.\u001b[0m\u001b[0mcheck_if_dead\u001b[0m\u001b[0;34m(\u001b[0m\u001b[0;34m)\u001b[0m\u001b[0;34m:\u001b[0m\u001b[0;34m\u001b[0m\u001b[0;34m\u001b[0m\u001b[0m\n\u001b[0m\u001b[1;32m     47\u001b[0m                         \u001b[0;32mdel\u001b[0m \u001b[0magent\u001b[0m\u001b[0;34m\u001b[0m\u001b[0;34m\u001b[0m\u001b[0m\n\u001b[1;32m     48\u001b[0m                     \u001b[0;32melse\u001b[0m\u001b[0;34m:\u001b[0m\u001b[0;34m\u001b[0m\u001b[0;34m\u001b[0m\u001b[0m\n",
      "\u001b[0;32m<ipython-input-88-69ad23281549>\u001b[0m in \u001b[0;36mcheck_if_dead\u001b[0;34m(self)\u001b[0m\n\u001b[1;32m    118\u001b[0m         \u001b[0mMethod\u001b[0m \u001b[0mto\u001b[0m \u001b[0mcheck\u001b[0m \u001b[0mwhether\u001b[0m \u001b[0mthe\u001b[0m \u001b[0manimal\u001b[0m \u001b[0magent\u001b[0m \u001b[0mhas\u001b[0m \u001b[0mdied\u001b[0m \u001b[0mof\u001b[0m \u001b[0mold\u001b[0m \u001b[0mage\u001b[0m\u001b[0;34m.\u001b[0m\u001b[0;34m\u001b[0m\u001b[0;34m\u001b[0m\u001b[0m\n\u001b[1;32m    119\u001b[0m         '''\n\u001b[0;32m--> 120\u001b[0;31m         \u001b[0;32mif\u001b[0m \u001b[0mint\u001b[0m\u001b[0;34m(\u001b[0m\u001b[0mself\u001b[0m\u001b[0;34m.\u001b[0m\u001b[0mage\u001b[0m\u001b[0;34m)\u001b[0m \u001b[0;34m>\u001b[0m \u001b[0mint\u001b[0m\u001b[0;34m(\u001b[0m\u001b[0mself\u001b[0m\u001b[0;34m.\u001b[0m\u001b[0mage_limit\u001b[0m\u001b[0;34m)\u001b[0m\u001b[0;34m:\u001b[0m\u001b[0;34m\u001b[0m\u001b[0;34m\u001b[0m\u001b[0m\n\u001b[0m\u001b[1;32m    121\u001b[0m             \u001b[0;32mreturn\u001b[0m \u001b[0;32mTrue\u001b[0m\u001b[0;34m\u001b[0m\u001b[0;34m\u001b[0m\u001b[0m\n\u001b[1;32m    122\u001b[0m         \u001b[0;32melse\u001b[0m\u001b[0;34m:\u001b[0m\u001b[0;34m\u001b[0m\u001b[0;34m\u001b[0m\u001b[0m\n",
      "\u001b[0;31mValueError\u001b[0m: invalid literal for int() with base 10: 'C'"
     ]
    },
    {
     "data": {
      "image/png": "[encoded data removed]",
      "text/plain": [
       "<Figure size 432x432 with 1 Axes>"
      ]
     },
     "metadata": {
      "needs_background": "light"
     },
     "output_type": "display_data"
    }
   ],
   "source": [
    "#Write your code here\n",
    "\n",
    "#env_2 = Environment(450, 450)\n",
    "# Set up the prey\n",
    "\n",
    "import random\n",
    "\n",
    "env_2 = Environment(450, 450)\n",
    "\n",
    "\n",
    "prey_pop = []\n",
    "for i in range(20):\n",
    "    mouse = Mouse(xmax=450, ymax=450, ptype=\"Prey\", sex=random.choice([\"male\", \"female\"]))\n",
    "    mouse.set_allele(alle_d,alle_m)\n",
    "    mouse.catch_radius = 5\n",
    "    mouse.reproduction_rate = 0.5\n",
    "    prey_pop.append(mouse)\n",
    "    env_2.add_agent(mouse)\n",
    "\n",
    "\n",
    "predator_pop = []\n",
    "for i in range(3):\n",
    "    hawk = Hawk(xmax=450, ymax=450, ptype=\"Predator\", sex=random.choice([\"male\", \"female\"]), shape=\"P\", color=\"red\")\n",
    "    hawk.set_allele(alle_d,alle_m)\n",
    "    hawk.catch_radius = 20\n",
    "    hawk.reproduction_rate = 0.1\n",
    "    hawk.catch_probability = 0.3\n",
    "    predator_pop.append(hawk)\n",
    "    env_2.add_agent(hawk)\n",
    "\n",
    "\n",
    "for i in range(100):\n",
    "    if len(prey_pop) < 1 or len(predator_pop) < 1:\n",
    "        break\n",
    "    \n",
    "    env_2.simulate(1)\n",
    "    prey_pop = [prey for prey in prey_pop if not prey.check_if_dead()]\n",
    "    predator_pop = [predator for predator in predator_pop if predator.check_if_dead()]\n",
    "    \n",
    "    print(f\"Step {i}: {len(prey_pop)} prey, {len(predator_pop)} predators\")\n",
    "    \n",
    "    \n",
    "    if i % 5 == 0:\n",
    "        env_2.simulate_plot_populations(100, 0.1)\n"
   ]
  },
  {
   "cell_type": "markdown",
   "metadata": {},
   "source": [
    "### 2.4 (5 Points)\n",
    "\n",
    "**Describe the differences between your results using the `Hawk` and `Mouse` class and the results from part 1.5. If and how does this model capture the effects of natural selection?**"
   ]
  },
  {
   "cell_type": "markdown",
   "metadata": {},
   "source": [
    "With Hawk and Mouse model I don't see as many points, I think it may be something wrong I did in the mouse class but I cant figure out what specifically. In 1.5 you can see how fast the prey repopulated, I think the ratio of prey vs predators with mice and hawks is a bit off that is why there are very little mice shows. Natrual selection is shown by how little of the mouse population self catching allel surivive so when they repopulate less of them will have that allel but that is if the hawks don't catch them before they repopulate."
   ]
  },
  {
   "cell_type": "markdown",
   "metadata": {},
   "source": [
    "---\n",
    "### &#128721; STOP\n",
    "**Pause to commit your changes and push to your Git repository!**\n",
    "\n",
    "## Git push, and then merge your `hw03_branch` into your `main` branch."
   ]
  },
  {
   "cell_type": "markdown",
   "metadata": {},
   "source": []
  }
 ],
 "metadata": {
  "kernelspec": {
   "display_name": "Python 3",
   "language": "python",
   "name": "python3"
  },
  "language_info": {
   "codemirror_mode": {
    "name": "ipython",
    "version": 3
   },
   "file_extension": ".py",
   "mimetype": "text/x-python",
   "name": "python",
   "nbconvert_exporter": "python",
   "pygments_lexer": "ipython3",
   "version": "3.8.8"
  }
 },
 "nbformat": 4,
 "nbformat_minor": 2
}
